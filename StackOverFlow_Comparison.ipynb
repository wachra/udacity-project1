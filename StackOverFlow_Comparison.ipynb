{
 "cells": [
  {
   "cell_type": "markdown",
   "metadata": {},
   "source": [
    "# Udacity Data Science Nanodegree - Project 1\n",
    "## For questions 1 and 2 the datasets of stackoverflow from 2014 and 2019 were used, while for the last question only the dataset from 2019 was used\n",
    "##### Please note, since I do not use machine learning techniques in this notebook and use bins for the presentation of my results, an imputation of the NAs would falsify the results, so I decided against filling the NAs"
   ]
  },
  {
   "cell_type": "code",
   "execution_count": 1,
   "metadata": {},
   "outputs": [],
   "source": [
    "import pandas as pd\n",
    "import numpy as np\n",
    "import matplotlib.pyplot as plt\n",
    "#pd.options.display.max_seq_items = None\n",
    "\n",
    "df_2014 = pd.read_csv(\"/home/rakete/Dokumente/Jupyter_Skripte/SOF_2014.csv\", header=[0,1])\n",
    "df_2019 = pd.read_csv(\"/home/rakete/Dokumente/Jupyter_Skripte/SOF_2019.csv\")\n",
    "df_2019_schema = pd.read_csv(\"/home/rakete/Dokumente/Jupyter_Skripte/survey_results_schema.csv\")"
   ]
  },
  {
   "cell_type": "code",
   "execution_count": 2,
   "metadata": {},
   "outputs": [
    {
     "data": {
      "text/plain": [
       "(7643, 120)"
      ]
     },
     "execution_count": 2,
     "metadata": {},
     "output_type": "execute_result"
    }
   ],
   "source": [
    "# Check shape of df_2014\n",
    "df_2014.shape"
   ]
  },
  {
   "cell_type": "code",
   "execution_count": 3,
   "metadata": {},
   "outputs": [
    {
     "data": {
      "text/plain": [
       "(88883, 85)"
      ]
     },
     "execution_count": 3,
     "metadata": {},
     "output_type": "execute_result"
    }
   ],
   "source": [
    "# Check shape of df_2019\n",
    "df_2019.shape"
   ]
  },
  {
   "cell_type": "code",
   "execution_count": 4,
   "metadata": {},
   "outputs": [
    {
     "data": {
      "text/html": [
       "<div>\n",
       "<style scoped>\n",
       "    .dataframe tbody tr th:only-of-type {\n",
       "        vertical-align: middle;\n",
       "    }\n",
       "\n",
       "    .dataframe tbody tr th {\n",
       "        vertical-align: top;\n",
       "    }\n",
       "\n",
       "    .dataframe thead tr th {\n",
       "        text-align: left;\n",
       "    }\n",
       "</style>\n",
       "<table border=\"1\" class=\"dataframe\">\n",
       "  <thead>\n",
       "    <tr>\n",
       "      <th></th>\n",
       "      <th>What Country do you live in?</th>\n",
       "      <th>Unnamed: 1_level_0</th>\n",
       "      <th>Which US State or Territory do you live in?</th>\n",
       "      <th>How old are you?</th>\n",
       "      <th>What is your gender?</th>\n",
       "      <th>How many years of IT/Programming experience do you have?</th>\n",
       "      <th>Which of the following best describes your occupation?</th>\n",
       "      <th>Including bonus, what is your annual compensation in USD?</th>\n",
       "      <th>How would you best describe the industry you currently work in?</th>\n",
       "      <th>How many developers are employed at your company?</th>\n",
       "      <th>...</th>\n",
       "      <th>Did you participate in the Apptivate contest?</th>\n",
       "      <th>What advertisers do you remember seeing on Stack Overflow?</th>\n",
       "      <th>What is your current Stack Overflow reputation?</th>\n",
       "      <th>How do you use Stack Overflow?</th>\n",
       "      <th>Unnamed: 114_level_0</th>\n",
       "      <th>Unnamed: 115_level_0</th>\n",
       "      <th>Unnamed: 116_level_0</th>\n",
       "      <th>Unnamed: 117_level_0</th>\n",
       "      <th>Unnamed: 118_level_0</th>\n",
       "      <th>How often do you find solutions to your programming problems on Stack Overflow without asking a new question?</th>\n",
       "    </tr>\n",
       "    <tr>\n",
       "      <th></th>\n",
       "      <th>Response</th>\n",
       "      <th>Other (please specify)</th>\n",
       "      <th>Response</th>\n",
       "      <th>Response</th>\n",
       "      <th>Response</th>\n",
       "      <th>Response</th>\n",
       "      <th>Response</th>\n",
       "      <th>Response</th>\n",
       "      <th>Response</th>\n",
       "      <th>Response</th>\n",
       "      <th>...</th>\n",
       "      <th>Response</th>\n",
       "      <th>Open-Ended Response</th>\n",
       "      <th>Response</th>\n",
       "      <th>Read other people's questions to solve my problems</th>\n",
       "      <th>Ask questions to solve problems</th>\n",
       "      <th>Answer questions I know the answer to</th>\n",
       "      <th>Looking for a job</th>\n",
       "      <th>Build my online reputation</th>\n",
       "      <th>Other (please specify)</th>\n",
       "      <th>Response</th>\n",
       "    </tr>\n",
       "  </thead>\n",
       "  <tbody>\n",
       "    <tr>\n",
       "      <th>0</th>\n",
       "      <td>India</td>\n",
       "      <td>NaN</td>\n",
       "      <td>NaN</td>\n",
       "      <td>30-34</td>\n",
       "      <td>Female</td>\n",
       "      <td>6/10/2014</td>\n",
       "      <td>Back-End Web Developer</td>\n",
       "      <td>$20,000 - $40,000</td>\n",
       "      <td>Finance / Banking</td>\n",
       "      <td>100</td>\n",
       "      <td>...</td>\n",
       "      <td>No</td>\n",
       "      <td>NaN</td>\n",
       "      <td>500</td>\n",
       "      <td>Read other people's questions to solve my prob...</td>\n",
       "      <td>Ask questions to solve problems</td>\n",
       "      <td>NaN</td>\n",
       "      <td>NaN</td>\n",
       "      <td>NaN</td>\n",
       "      <td>NaN</td>\n",
       "      <td>Almost Always</td>\n",
       "    </tr>\n",
       "    <tr>\n",
       "      <th>1</th>\n",
       "      <td>Thailand</td>\n",
       "      <td>NaN</td>\n",
       "      <td>NaN</td>\n",
       "      <td>20-24</td>\n",
       "      <td>Male</td>\n",
       "      <td>&lt;2</td>\n",
       "      <td>Back-End Web Developer</td>\n",
       "      <td>Student / Unemployed</td>\n",
       "      <td>Healthcare</td>\n",
       "      <td>NaN</td>\n",
       "      <td>...</td>\n",
       "      <td>NaN</td>\n",
       "      <td>NaN</td>\n",
       "      <td>Don't have an account</td>\n",
       "      <td>Read other people's questions to solve my prob...</td>\n",
       "      <td>NaN</td>\n",
       "      <td>NaN</td>\n",
       "      <td>NaN</td>\n",
       "      <td>NaN</td>\n",
       "      <td>NaN</td>\n",
       "      <td>NaN</td>\n",
       "    </tr>\n",
       "    <tr>\n",
       "      <th>7641</th>\n",
       "      <td>United States</td>\n",
       "      <td>NaN</td>\n",
       "      <td>Washington</td>\n",
       "      <td>25-29</td>\n",
       "      <td>Male</td>\n",
       "      <td>6/10/2014</td>\n",
       "      <td>Desktop Software Developer</td>\n",
       "      <td>$120,000 - $140,000</td>\n",
       "      <td>Software Products</td>\n",
       "      <td>100</td>\n",
       "      <td>...</td>\n",
       "      <td>No</td>\n",
       "      <td>NaN</td>\n",
       "      <td>5000</td>\n",
       "      <td>Read other people's questions to solve my prob...</td>\n",
       "      <td>NaN</td>\n",
       "      <td>Answer questions I know the answer to</td>\n",
       "      <td>NaN</td>\n",
       "      <td>NaN</td>\n",
       "      <td>NaN</td>\n",
       "      <td>Almost Always</td>\n",
       "    </tr>\n",
       "    <tr>\n",
       "      <th>7642</th>\n",
       "      <td>United States</td>\n",
       "      <td>NaN</td>\n",
       "      <td>South Carolina</td>\n",
       "      <td>&lt; 20</td>\n",
       "      <td>Male</td>\n",
       "      <td>&lt;2</td>\n",
       "      <td>Student</td>\n",
       "      <td>Student / Unemployed</td>\n",
       "      <td>Not Currently Employed</td>\n",
       "      <td>1/5/2014</td>\n",
       "      <td>...</td>\n",
       "      <td>NaN</td>\n",
       "      <td>NaN</td>\n",
       "      <td>NaN</td>\n",
       "      <td>NaN</td>\n",
       "      <td>NaN</td>\n",
       "      <td>NaN</td>\n",
       "      <td>NaN</td>\n",
       "      <td>NaN</td>\n",
       "      <td>NaN</td>\n",
       "      <td>NaN</td>\n",
       "    </tr>\n",
       "  </tbody>\n",
       "</table>\n",
       "<p>4 rows × 120 columns</p>\n",
       "</div>"
      ],
      "text/plain": [
       "     What Country do you live in?     Unnamed: 1_level_0  \\\n",
       "                         Response Other (please specify)   \n",
       "0                           India                    NaN   \n",
       "1                        Thailand                    NaN   \n",
       "7641                United States                    NaN   \n",
       "7642                United States                    NaN   \n",
       "\n",
       "     Which US State or Territory do you live in? How old are you?  \\\n",
       "                                        Response         Response   \n",
       "0                                            NaN            30-34   \n",
       "1                                            NaN            20-24   \n",
       "7641                                  Washington            25-29   \n",
       "7642                              South Carolina             < 20   \n",
       "\n",
       "     What is your gender?  \\\n",
       "                 Response   \n",
       "0                  Female   \n",
       "1                    Male   \n",
       "7641                 Male   \n",
       "7642                 Male   \n",
       "\n",
       "     How many years of IT/Programming experience do you have?  \\\n",
       "                                                     Response   \n",
       "0                                             6/10/2014         \n",
       "1                                                    <2         \n",
       "7641                                          6/10/2014         \n",
       "7642                                                 <2         \n",
       "\n",
       "     Which of the following best describes your occupation?  \\\n",
       "                                                   Response   \n",
       "0                                Back-End Web Developer       \n",
       "1                                Back-End Web Developer       \n",
       "7641                         Desktop Software Developer       \n",
       "7642                                            Student       \n",
       "\n",
       "     Including bonus, what is your annual compensation in USD?  \\\n",
       "                                                      Response   \n",
       "0                                     $20,000 - $40,000          \n",
       "1                                  Student / Unemployed          \n",
       "7641                                $120,000 - $140,000          \n",
       "7642                               Student / Unemployed          \n",
       "\n",
       "     How would you best describe the industry you currently work in?  \\\n",
       "                                                            Response   \n",
       "0                                     Finance / Banking                \n",
       "1                                            Healthcare                \n",
       "7641                                  Software Products                \n",
       "7642                             Not Currently Employed                \n",
       "\n",
       "     How many developers are employed at your company?  ...  \\\n",
       "                                              Response  ...   \n",
       "0                                                  100  ...   \n",
       "1                                                  NaN  ...   \n",
       "7641                                               100  ...   \n",
       "7642                                          1/5/2014  ...   \n",
       "\n",
       "     Did you participate in the Apptivate contest?  \\\n",
       "                                          Response   \n",
       "0                                               No   \n",
       "1                                              NaN   \n",
       "7641                                            No   \n",
       "7642                                           NaN   \n",
       "\n",
       "     What advertisers do you remember seeing on Stack Overflow?  \\\n",
       "                                            Open-Ended Response   \n",
       "0                                                   NaN           \n",
       "1                                                   NaN           \n",
       "7641                                                NaN           \n",
       "7642                                                NaN           \n",
       "\n",
       "     What is your current Stack Overflow reputation?  \\\n",
       "                                            Response   \n",
       "0                                                500   \n",
       "1                              Don't have an account   \n",
       "7641                                            5000   \n",
       "7642                                             NaN   \n",
       "\n",
       "                         How do you use Stack Overflow?  \\\n",
       "     Read other people's questions to solve my problems   \n",
       "0     Read other people's questions to solve my prob...   \n",
       "1     Read other people's questions to solve my prob...   \n",
       "7641  Read other people's questions to solve my prob...   \n",
       "7642                                                NaN   \n",
       "\n",
       "                 Unnamed: 114_level_0                   Unnamed: 115_level_0  \\\n",
       "      Ask questions to solve problems  Answer questions I know the answer to   \n",
       "0     Ask questions to solve problems                                    NaN   \n",
       "1                                 NaN                                    NaN   \n",
       "7641                              NaN  Answer questions I know the answer to   \n",
       "7642                              NaN                                    NaN   \n",
       "\n",
       "     Unnamed: 116_level_0       Unnamed: 117_level_0   Unnamed: 118_level_0  \\\n",
       "        Looking for a job Build my online reputation Other (please specify)   \n",
       "0                     NaN                        NaN                    NaN   \n",
       "1                     NaN                        NaN                    NaN   \n",
       "7641                  NaN                        NaN                    NaN   \n",
       "7642                  NaN                        NaN                    NaN   \n",
       "\n",
       "     How often do you find solutions to your programming problems on Stack Overflow without asking a new question?  \n",
       "                                                                                                          Response  \n",
       "0                                         Almost Always                                                             \n",
       "1                                                   NaN                                                             \n",
       "7641                                      Almost Always                                                             \n",
       "7642                                                NaN                                                             \n",
       "\n",
       "[4 rows x 120 columns]"
      ]
     },
     "execution_count": 4,
     "metadata": {},
     "output_type": "execute_result"
    }
   ],
   "source": [
    "# Look at head and tail of df_2014\n",
    "df_2014.iloc[(np.r_[0:2, -2:0])]"
   ]
  },
  {
   "cell_type": "code",
   "execution_count": 5,
   "metadata": {},
   "outputs": [
    {
     "data": {
      "text/html": [
       "<div>\n",
       "<style scoped>\n",
       "    .dataframe tbody tr th:only-of-type {\n",
       "        vertical-align: middle;\n",
       "    }\n",
       "\n",
       "    .dataframe tbody tr th {\n",
       "        vertical-align: top;\n",
       "    }\n",
       "\n",
       "    .dataframe thead th {\n",
       "        text-align: right;\n",
       "    }\n",
       "</style>\n",
       "<table border=\"1\" class=\"dataframe\">\n",
       "  <thead>\n",
       "    <tr style=\"text-align: right;\">\n",
       "      <th></th>\n",
       "      <th>Respondent</th>\n",
       "      <th>MainBranch</th>\n",
       "      <th>Hobbyist</th>\n",
       "      <th>OpenSourcer</th>\n",
       "      <th>OpenSource</th>\n",
       "      <th>Employment</th>\n",
       "      <th>Country</th>\n",
       "      <th>Student</th>\n",
       "      <th>EdLevel</th>\n",
       "      <th>UndergradMajor</th>\n",
       "      <th>...</th>\n",
       "      <th>WelcomeChange</th>\n",
       "      <th>SONewContent</th>\n",
       "      <th>Age</th>\n",
       "      <th>Gender</th>\n",
       "      <th>Trans</th>\n",
       "      <th>Sexuality</th>\n",
       "      <th>Ethnicity</th>\n",
       "      <th>Dependents</th>\n",
       "      <th>SurveyLength</th>\n",
       "      <th>SurveyEase</th>\n",
       "    </tr>\n",
       "  </thead>\n",
       "  <tbody>\n",
       "    <tr>\n",
       "      <th>0</th>\n",
       "      <td>1</td>\n",
       "      <td>I am a student who is learning to code</td>\n",
       "      <td>Yes</td>\n",
       "      <td>Never</td>\n",
       "      <td>The quality of OSS and closed source software ...</td>\n",
       "      <td>Not employed, and not looking for work</td>\n",
       "      <td>United Kingdom</td>\n",
       "      <td>No</td>\n",
       "      <td>Primary/elementary school</td>\n",
       "      <td>NaN</td>\n",
       "      <td>...</td>\n",
       "      <td>Just as welcome now as I felt last year</td>\n",
       "      <td>Tech articles written by other developers;Indu...</td>\n",
       "      <td>14.0</td>\n",
       "      <td>Man</td>\n",
       "      <td>No</td>\n",
       "      <td>Straight / Heterosexual</td>\n",
       "      <td>NaN</td>\n",
       "      <td>No</td>\n",
       "      <td>Appropriate in length</td>\n",
       "      <td>Neither easy nor difficult</td>\n",
       "    </tr>\n",
       "    <tr>\n",
       "      <th>1</th>\n",
       "      <td>2</td>\n",
       "      <td>I am a student who is learning to code</td>\n",
       "      <td>No</td>\n",
       "      <td>Less than once per year</td>\n",
       "      <td>The quality of OSS and closed source software ...</td>\n",
       "      <td>Not employed, but looking for work</td>\n",
       "      <td>Bosnia and Herzegovina</td>\n",
       "      <td>Yes, full-time</td>\n",
       "      <td>Secondary school (e.g. American high school, G...</td>\n",
       "      <td>NaN</td>\n",
       "      <td>...</td>\n",
       "      <td>Just as welcome now as I felt last year</td>\n",
       "      <td>Tech articles written by other developers;Indu...</td>\n",
       "      <td>19.0</td>\n",
       "      <td>Man</td>\n",
       "      <td>No</td>\n",
       "      <td>Straight / Heterosexual</td>\n",
       "      <td>NaN</td>\n",
       "      <td>No</td>\n",
       "      <td>Appropriate in length</td>\n",
       "      <td>Neither easy nor difficult</td>\n",
       "    </tr>\n",
       "    <tr>\n",
       "      <th>88881</th>\n",
       "      <td>88816</td>\n",
       "      <td>NaN</td>\n",
       "      <td>No</td>\n",
       "      <td>Never</td>\n",
       "      <td>OSS is, on average, of HIGHER quality than pro...</td>\n",
       "      <td>Independent contractor, freelancer, or self-em...</td>\n",
       "      <td>NaN</td>\n",
       "      <td>NaN</td>\n",
       "      <td>NaN</td>\n",
       "      <td>NaN</td>\n",
       "      <td>...</td>\n",
       "      <td>NaN</td>\n",
       "      <td>NaN</td>\n",
       "      <td>NaN</td>\n",
       "      <td>NaN</td>\n",
       "      <td>NaN</td>\n",
       "      <td>NaN</td>\n",
       "      <td>NaN</td>\n",
       "      <td>NaN</td>\n",
       "      <td>NaN</td>\n",
       "      <td>NaN</td>\n",
       "    </tr>\n",
       "    <tr>\n",
       "      <th>88882</th>\n",
       "      <td>88863</td>\n",
       "      <td>NaN</td>\n",
       "      <td>Yes</td>\n",
       "      <td>Less than once per year</td>\n",
       "      <td>OSS is, on average, of HIGHER quality than pro...</td>\n",
       "      <td>Not employed, and not looking for work</td>\n",
       "      <td>Spain</td>\n",
       "      <td>Yes, full-time</td>\n",
       "      <td>Professional degree (JD, MD, etc.)</td>\n",
       "      <td>Computer science, computer engineering, or sof...</td>\n",
       "      <td>...</td>\n",
       "      <td>Somewhat less welcome now than last year</td>\n",
       "      <td>Tech articles written by other developers;Indu...</td>\n",
       "      <td>18.0</td>\n",
       "      <td>Man</td>\n",
       "      <td>No</td>\n",
       "      <td>Straight / Heterosexual</td>\n",
       "      <td>Hispanic or Latino/Latina;White or of European...</td>\n",
       "      <td>No</td>\n",
       "      <td>Appropriate in length</td>\n",
       "      <td>Easy</td>\n",
       "    </tr>\n",
       "  </tbody>\n",
       "</table>\n",
       "<p>4 rows × 85 columns</p>\n",
       "</div>"
      ],
      "text/plain": [
       "       Respondent                              MainBranch Hobbyist  \\\n",
       "0               1  I am a student who is learning to code      Yes   \n",
       "1               2  I am a student who is learning to code       No   \n",
       "88881       88816                                     NaN       No   \n",
       "88882       88863                                     NaN      Yes   \n",
       "\n",
       "                   OpenSourcer  \\\n",
       "0                        Never   \n",
       "1      Less than once per year   \n",
       "88881                    Never   \n",
       "88882  Less than once per year   \n",
       "\n",
       "                                              OpenSource  \\\n",
       "0      The quality of OSS and closed source software ...   \n",
       "1      The quality of OSS and closed source software ...   \n",
       "88881  OSS is, on average, of HIGHER quality than pro...   \n",
       "88882  OSS is, on average, of HIGHER quality than pro...   \n",
       "\n",
       "                                              Employment  \\\n",
       "0                 Not employed, and not looking for work   \n",
       "1                     Not employed, but looking for work   \n",
       "88881  Independent contractor, freelancer, or self-em...   \n",
       "88882             Not employed, and not looking for work   \n",
       "\n",
       "                      Country         Student  \\\n",
       "0              United Kingdom              No   \n",
       "1      Bosnia and Herzegovina  Yes, full-time   \n",
       "88881                     NaN             NaN   \n",
       "88882                   Spain  Yes, full-time   \n",
       "\n",
       "                                                 EdLevel  \\\n",
       "0                              Primary/elementary school   \n",
       "1      Secondary school (e.g. American high school, G...   \n",
       "88881                                                NaN   \n",
       "88882                 Professional degree (JD, MD, etc.)   \n",
       "\n",
       "                                          UndergradMajor  ...  \\\n",
       "0                                                    NaN  ...   \n",
       "1                                                    NaN  ...   \n",
       "88881                                                NaN  ...   \n",
       "88882  Computer science, computer engineering, or sof...  ...   \n",
       "\n",
       "                                  WelcomeChange  \\\n",
       "0       Just as welcome now as I felt last year   \n",
       "1       Just as welcome now as I felt last year   \n",
       "88881                                       NaN   \n",
       "88882  Somewhat less welcome now than last year   \n",
       "\n",
       "                                            SONewContent   Age Gender Trans  \\\n",
       "0      Tech articles written by other developers;Indu...  14.0    Man    No   \n",
       "1      Tech articles written by other developers;Indu...  19.0    Man    No   \n",
       "88881                                                NaN   NaN    NaN   NaN   \n",
       "88882  Tech articles written by other developers;Indu...  18.0    Man    No   \n",
       "\n",
       "                     Sexuality  \\\n",
       "0      Straight / Heterosexual   \n",
       "1      Straight / Heterosexual   \n",
       "88881                      NaN   \n",
       "88882  Straight / Heterosexual   \n",
       "\n",
       "                                               Ethnicity Dependents  \\\n",
       "0                                                    NaN         No   \n",
       "1                                                    NaN         No   \n",
       "88881                                                NaN        NaN   \n",
       "88882  Hispanic or Latino/Latina;White or of European...         No   \n",
       "\n",
       "                SurveyLength                  SurveyEase  \n",
       "0      Appropriate in length  Neither easy nor difficult  \n",
       "1      Appropriate in length  Neither easy nor difficult  \n",
       "88881                    NaN                         NaN  \n",
       "88882  Appropriate in length                        Easy  \n",
       "\n",
       "[4 rows x 85 columns]"
      ]
     },
     "execution_count": 5,
     "metadata": {},
     "output_type": "execute_result"
    }
   ],
   "source": [
    "# Look at head and tail of df_2019\n",
    "df_2019.iloc[(np.r_[0:2, -2:0])]"
   ]
  },
  {
   "cell_type": "markdown",
   "metadata": {},
   "source": [
    "# Question 1  \n",
    "### Which programming languages have become more popular within the last 5 years?"
   ]
  },
  {
   "cell_type": "code",
   "execution_count": 6,
   "metadata": {},
   "outputs": [
    {
     "name": "stdout",
     "output_type": "stream",
     "text": [
      "In 2014, 6440 of the 7643 survey participants named at least least one programming language (84.26%).\n",
      "In 2019, 87569 of the 88883 survey participants named at least least one programming language (98.52%).\n"
     ]
    }
   ],
   "source": [
    "print(\"In 2014, {} of the {} survey participants named at least least one programming language ({:.2f}%).\".format(sum(df_2014.iloc[:,42:53].isna().sum(axis = 1) != 11), len(df_2014), sum(df_2014.iloc[:,42:53].isna().sum(axis = 1) != 11)/len(df_2014)*100))\n",
    "print(\"In 2019, {} of the {} survey participants named at least least one programming language ({:.2f}%).\".format(df_2019[\"LanguageWorkedWith\"].notna().sum(), len(df_2019), (df_2019[\"LanguageWorkedWith\"].notna().sum()/len(df_2019))*100))"
   ]
  },
  {
   "cell_type": "code",
   "execution_count": 7,
   "metadata": {},
   "outputs": [],
   "source": [
    "# Create a dict of the 11 most popular programming languages in 2014\n",
    "pop_progL_2014 = {}\n",
    "progL = [\"C\", \"C++\", \"C#\", \"Java\", \"JavaScript\",\"Node.js\", \"Objective-C\", \"PHP\", \"Python\", \"Ruby\", \"SQL\"]\n",
    "for k,v in zip(progL, df_2014.iloc[:,42:53].notna().sum().values):\n",
    "    # nur 6640 der 7643 der Umfrageteilnehmer haben mindestens eine Sprache angegeben\n",
    "    pop_progL_2014[k] = v/6440"
   ]
  },
  {
   "cell_type": "code",
   "execution_count": 8,
   "metadata": {},
   "outputs": [
    {
     "data": {
      "text/plain": [
       "{'C': 0.18229813664596273,\n",
       " 'C++': 0.2201863354037267,\n",
       " 'C#': 0.3692546583850932,\n",
       " 'Java': 0.38493788819875774,\n",
       " 'JavaScript': 0.5874223602484472,\n",
       " 'Node.js': 0.09953416149068323,\n",
       " 'Objective-C': 0.1048136645962733,\n",
       " 'PHP': 0.265527950310559,\n",
       " 'Python': 0.22872670807453416,\n",
       " 'Ruby': 0.09208074534161491,\n",
       " 'SQL': 0.5383540372670808}"
      ]
     },
     "execution_count": 8,
     "metadata": {},
     "output_type": "execute_result"
    }
   ],
   "source": [
    "# A look at the popularity of the programming languages in 2019\n",
    "pop_progL_2014"
   ]
  },
  {
   "cell_type": "code",
   "execution_count": 9,
   "metadata": {},
   "outputs": [],
   "source": [
    "pop_progL_2019 = {}\n",
    "\n",
    "for val_full in df_2019[\"LanguageWorkedWith\"].values:\n",
    "    if not pd.isna(val_full):\n",
    "        for val in val_full.split(\";\"):\n",
    "            if val in progL:\n",
    "                if val in pop_progL_2019.keys():\n",
    "                    pop_progL_2019[val] += 1\n",
    "                else:\n",
    "                    pop_progL_2019[val] = 1\n",
    "\n",
    " \n",
    "# nur 87569 der 88883 der Umfrageteilnehmer haben mindestens eine Sprache angegeben\n",
    "pop_progL_2019 = {k:v/87569 for k,v in pop_progL_2019.items()}"
   ]
  },
  {
   "cell_type": "code",
   "execution_count": 10,
   "metadata": {},
   "outputs": [
    {
     "data": {
      "text/plain": [
       "{'Java': 0.4101565622537656,\n",
       " 'JavaScript': 0.6762552958238646,\n",
       " 'Python': 0.41616325411960853,\n",
       " 'C++': 0.2343751784307232,\n",
       " 'C': 0.20574632575454785,\n",
       " 'C#': 0.3094359876211901,\n",
       " 'SQL': 0.5429318594479782,\n",
       " 'Ruby': 0.08371684043440031,\n",
       " 'PHP': 0.2629926115406137,\n",
       " 'Objective-C': 0.04785940229990065}"
      ]
     },
     "execution_count": 10,
     "metadata": {},
     "output_type": "execute_result"
    }
   ],
   "source": [
    "# A look at the popularity of the programming languages in 2019 \n",
    "pop_progL_2019"
   ]
  },
  {
   "cell_type": "code",
   "execution_count": 11,
   "metadata": {},
   "outputs": [
    {
     "data": {
      "text/html": [
       "<style  type=\"text/css\" >\n",
       "    #T_0a7813c2_8216_11ea_a64b_5800e3b51c03row0_col2 {\n",
       "            width:  10em;\n",
       "             height:  80%;\n",
       "            background:  linear-gradient(90deg, transparent 24.2%, #5fba7d 24.2%, #5fba7d 100.0%, transparent 100.0%);\n",
       "        }    #T_0a7813c2_8216_11ea_a64b_5800e3b51c03row1_col2 {\n",
       "            width:  10em;\n",
       "             height:  80%;\n",
       "            background:  linear-gradient(90deg, transparent 24.2%, #5fba7d 24.2%, #5fba7d 60.1%, transparent 60.1%);\n",
       "        }    #T_0a7813c2_8216_11ea_a64b_5800e3b51c03row2_col2 {\n",
       "            width:  10em;\n",
       "             height:  80%;\n",
       "            background:  linear-gradient(90deg, transparent 24.2%, #5fba7d 24.2%, #5fba7d 34.4%, transparent 34.4%);\n",
       "        }    #T_0a7813c2_8216_11ea_a64b_5800e3b51c03row3_col2 {\n",
       "            width:  10em;\n",
       "             height:  80%;\n",
       "            background:  linear-gradient(90deg, transparent 24.2%, #5fba7d 24.2%, #5fba7d 33.7%, transparent 33.7%);\n",
       "        }    #T_0a7813c2_8216_11ea_a64b_5800e3b51c03row4_col2 {\n",
       "            width:  10em;\n",
       "             height:  80%;\n",
       "            background:  linear-gradient(90deg, transparent 24.2%, #5fba7d 24.2%, #5fba7d 29.9%, transparent 29.9%);\n",
       "        }    #T_0a7813c2_8216_11ea_a64b_5800e3b51c03row5_col2 {\n",
       "            width:  10em;\n",
       "             height:  80%;\n",
       "            background:  linear-gradient(90deg, transparent 24.2%, #5fba7d 24.2%, #5fba7d 26.0%, transparent 26.0%);\n",
       "        }    #T_0a7813c2_8216_11ea_a64b_5800e3b51c03row6_col2 {\n",
       "            width:  10em;\n",
       "             height:  80%;\n",
       "            background:  linear-gradient(90deg, transparent 23.2%, #d65f5f 23.2%, #d65f5f 24.2%, transparent 24.2%);\n",
       "        }    #T_0a7813c2_8216_11ea_a64b_5800e3b51c03row7_col2 {\n",
       "            width:  10em;\n",
       "             height:  80%;\n",
       "            background:  linear-gradient(90deg, transparent 20.8%, #d65f5f 20.8%, #d65f5f 24.2%, transparent 24.2%);\n",
       "        }    #T_0a7813c2_8216_11ea_a64b_5800e3b51c03row8_col2 {\n",
       "            width:  10em;\n",
       "             height:  80%;\n",
       "            background:  linear-gradient(90deg, transparent 1.2%, #d65f5f 1.2%, #d65f5f 24.2%, transparent 24.2%);\n",
       "        }    #T_0a7813c2_8216_11ea_a64b_5800e3b51c03row9_col2 {\n",
       "            width:  10em;\n",
       "             height:  80%;\n",
       "            background:  linear-gradient(90deg,#d65f5f 24.2%, transparent 24.2%);\n",
       "        }</style><table id=\"T_0a7813c2_8216_11ea_a64b_5800e3b51c03\" ><thead>    <tr>        <th class=\"blank level0\" ></th>        <th class=\"col_heading level0 col0\" >2014</th>        <th class=\"col_heading level0 col1\" >2019</th>        <th class=\"col_heading level0 col2\" >Difference</th>    </tr></thead><tbody>\n",
       "                <tr>\n",
       "                        <th id=\"T_0a7813c2_8216_11ea_a64b_5800e3b51c03level0_row0\" class=\"row_heading level0 row0\" >Python</th>\n",
       "                        <td id=\"T_0a7813c2_8216_11ea_a64b_5800e3b51c03row0_col0\" class=\"data row0 col0\" >0.228727</td>\n",
       "                        <td id=\"T_0a7813c2_8216_11ea_a64b_5800e3b51c03row0_col1\" class=\"data row0 col1\" >0.416163</td>\n",
       "                        <td id=\"T_0a7813c2_8216_11ea_a64b_5800e3b51c03row0_col2\" class=\"data row0 col2\" >0.187437</td>\n",
       "            </tr>\n",
       "            <tr>\n",
       "                        <th id=\"T_0a7813c2_8216_11ea_a64b_5800e3b51c03level0_row1\" class=\"row_heading level0 row1\" >JavaScript</th>\n",
       "                        <td id=\"T_0a7813c2_8216_11ea_a64b_5800e3b51c03row1_col0\" class=\"data row1 col0\" >0.587422</td>\n",
       "                        <td id=\"T_0a7813c2_8216_11ea_a64b_5800e3b51c03row1_col1\" class=\"data row1 col1\" >0.676255</td>\n",
       "                        <td id=\"T_0a7813c2_8216_11ea_a64b_5800e3b51c03row1_col2\" class=\"data row1 col2\" >0.088833</td>\n",
       "            </tr>\n",
       "            <tr>\n",
       "                        <th id=\"T_0a7813c2_8216_11ea_a64b_5800e3b51c03level0_row2\" class=\"row_heading level0 row2\" >Java</th>\n",
       "                        <td id=\"T_0a7813c2_8216_11ea_a64b_5800e3b51c03row2_col0\" class=\"data row2 col0\" >0.384938</td>\n",
       "                        <td id=\"T_0a7813c2_8216_11ea_a64b_5800e3b51c03row2_col1\" class=\"data row2 col1\" >0.410157</td>\n",
       "                        <td id=\"T_0a7813c2_8216_11ea_a64b_5800e3b51c03row2_col2\" class=\"data row2 col2\" >0.025219</td>\n",
       "            </tr>\n",
       "            <tr>\n",
       "                        <th id=\"T_0a7813c2_8216_11ea_a64b_5800e3b51c03level0_row3\" class=\"row_heading level0 row3\" >C</th>\n",
       "                        <td id=\"T_0a7813c2_8216_11ea_a64b_5800e3b51c03row3_col0\" class=\"data row3 col0\" >0.182298</td>\n",
       "                        <td id=\"T_0a7813c2_8216_11ea_a64b_5800e3b51c03row3_col1\" class=\"data row3 col1\" >0.205746</td>\n",
       "                        <td id=\"T_0a7813c2_8216_11ea_a64b_5800e3b51c03row3_col2\" class=\"data row3 col2\" >0.023448</td>\n",
       "            </tr>\n",
       "            <tr>\n",
       "                        <th id=\"T_0a7813c2_8216_11ea_a64b_5800e3b51c03level0_row4\" class=\"row_heading level0 row4\" >C++</th>\n",
       "                        <td id=\"T_0a7813c2_8216_11ea_a64b_5800e3b51c03row4_col0\" class=\"data row4 col0\" >0.220186</td>\n",
       "                        <td id=\"T_0a7813c2_8216_11ea_a64b_5800e3b51c03row4_col1\" class=\"data row4 col1\" >0.234375</td>\n",
       "                        <td id=\"T_0a7813c2_8216_11ea_a64b_5800e3b51c03row4_col2\" class=\"data row4 col2\" >0.014189</td>\n",
       "            </tr>\n",
       "            <tr>\n",
       "                        <th id=\"T_0a7813c2_8216_11ea_a64b_5800e3b51c03level0_row5\" class=\"row_heading level0 row5\" >SQL</th>\n",
       "                        <td id=\"T_0a7813c2_8216_11ea_a64b_5800e3b51c03row5_col0\" class=\"data row5 col0\" >0.538354</td>\n",
       "                        <td id=\"T_0a7813c2_8216_11ea_a64b_5800e3b51c03row5_col1\" class=\"data row5 col1\" >0.542932</td>\n",
       "                        <td id=\"T_0a7813c2_8216_11ea_a64b_5800e3b51c03row5_col2\" class=\"data row5 col2\" >0.004578</td>\n",
       "            </tr>\n",
       "            <tr>\n",
       "                        <th id=\"T_0a7813c2_8216_11ea_a64b_5800e3b51c03level0_row6\" class=\"row_heading level0 row6\" >PHP</th>\n",
       "                        <td id=\"T_0a7813c2_8216_11ea_a64b_5800e3b51c03row6_col0\" class=\"data row6 col0\" >0.265528</td>\n",
       "                        <td id=\"T_0a7813c2_8216_11ea_a64b_5800e3b51c03row6_col1\" class=\"data row6 col1\" >0.262993</td>\n",
       "                        <td id=\"T_0a7813c2_8216_11ea_a64b_5800e3b51c03row6_col2\" class=\"data row6 col2\" >-0.002535</td>\n",
       "            </tr>\n",
       "            <tr>\n",
       "                        <th id=\"T_0a7813c2_8216_11ea_a64b_5800e3b51c03level0_row7\" class=\"row_heading level0 row7\" >Ruby</th>\n",
       "                        <td id=\"T_0a7813c2_8216_11ea_a64b_5800e3b51c03row7_col0\" class=\"data row7 col0\" >0.092081</td>\n",
       "                        <td id=\"T_0a7813c2_8216_11ea_a64b_5800e3b51c03row7_col1\" class=\"data row7 col1\" >0.083717</td>\n",
       "                        <td id=\"T_0a7813c2_8216_11ea_a64b_5800e3b51c03row7_col2\" class=\"data row7 col2\" >-0.008364</td>\n",
       "            </tr>\n",
       "            <tr>\n",
       "                        <th id=\"T_0a7813c2_8216_11ea_a64b_5800e3b51c03level0_row8\" class=\"row_heading level0 row8\" >Objective-C</th>\n",
       "                        <td id=\"T_0a7813c2_8216_11ea_a64b_5800e3b51c03row8_col0\" class=\"data row8 col0\" >0.104814</td>\n",
       "                        <td id=\"T_0a7813c2_8216_11ea_a64b_5800e3b51c03row8_col1\" class=\"data row8 col1\" >0.047859</td>\n",
       "                        <td id=\"T_0a7813c2_8216_11ea_a64b_5800e3b51c03row8_col2\" class=\"data row8 col2\" >-0.056954</td>\n",
       "            </tr>\n",
       "            <tr>\n",
       "                        <th id=\"T_0a7813c2_8216_11ea_a64b_5800e3b51c03level0_row9\" class=\"row_heading level0 row9\" >C#</th>\n",
       "                        <td id=\"T_0a7813c2_8216_11ea_a64b_5800e3b51c03row9_col0\" class=\"data row9 col0\" >0.369255</td>\n",
       "                        <td id=\"T_0a7813c2_8216_11ea_a64b_5800e3b51c03row9_col1\" class=\"data row9 col1\" >0.309436</td>\n",
       "                        <td id=\"T_0a7813c2_8216_11ea_a64b_5800e3b51c03row9_col2\" class=\"data row9 col2\" >-0.059819</td>\n",
       "            </tr>\n",
       "    </tbody></table>"
      ],
      "text/plain": [
       "<pandas.io.formats.style.Styler at 0x7fec859c3198>"
      ]
     },
     "execution_count": 11,
     "metadata": {},
     "output_type": "execute_result"
    }
   ],
   "source": [
    "# Create a pandas style dataframe\n",
    "progL_2014_2019 = pd.DataFrame.from_records([{k:pop_progL_2014[k] for k,v in pop_progL_2019.items()}.values(), pop_progL_2019.values()], columns = pop_progL_2019.keys(), index = [2014, 2019]).T\n",
    "progL_2014_2019[\"Difference\"] = np.fromiter(pop_progL_2019.values(), dtype=float) - np.fromiter({k:pop_progL_2014[k] for k,v in pop_progL_2019.items()}.values(), dtype=float)\n",
    "progL_2014_2019 = progL_2014_2019.sort_values(\"Difference\", ascending=False)\n",
    "progL_2014_2019.style.bar(subset=['Difference'], align='mid', color=['#d65f5f', '#5fba7d'])"
   ]
  },
  {
   "cell_type": "code",
   "execution_count": 12,
   "metadata": {},
   "outputs": [
    {
     "data": {
      "image/png": "[encoded data removed]",
      "text/plain": [
       "<Figure size 1008x432 with 1 Axes>"
      ]
     },
     "metadata": {
      "needs_background": "light"
     },
     "output_type": "display_data"
    }
   ],
   "source": [
    "plt.figure(figsize=(14,6))\n",
    "plt.hlines(y=progL_2014_2019.index[::-1], xmin=0, xmax= progL_2014_2019[\"Difference\"][::-1], color=[\"#00bc35\" if x > 0 else \"#f8766d\" for x in progL_2014_2019[\"Difference\"]][::-1],  alpha=0.7, linewidth=30)\n",
    "plt.xticks([-0.05, 0, 0.05, 0.1, 0.15], ['-5%', '0%', '5%', '10%', '15%'], fontsize=13)\n",
    "plt.yticks(fontsize=13)\n",
    "plt.title('Change in the popularity of programming languages between 2014 and 2019', fontdict={'size':22})\n",
    "plt.xlim(min(progL_2014_2019[\"Difference\"])-0.005, max(progL_2014_2019[\"Difference\"])+0.005)\n",
    "#plt.savefig('progL.png', bbox_inches='tight')\n",
    "plt.show()"
   ]
  },
  {
   "cell_type": "markdown",
   "metadata": {},
   "source": [
    "# Question 2\n",
    "### Do experienced developers tend to work from home and how has this changed over the last 5 years?"
   ]
  },
  {
   "cell_type": "code",
   "execution_count": 13,
   "metadata": {},
   "outputs": [
    {
     "name": "stdout",
     "output_type": "stream",
     "text": [
      "In 2014, 7219 of the 7643 survey participants named at least least one programming language (94.45%).\n",
      "In 2019, 70284 of the 88883 survey participants named at least least one programming language (79.07%).\n"
     ]
    }
   ],
   "source": [
    "print(\"In 2014, {} of the {} survey participants named at least least one programming language ({:.2f}%).\".format(len(df_2014[\"Do you work remotely?\"][\"Response\"].dropna()), len(df_2014), (len(df_2014[\"Do you work remotely?\"][\"Response\"].dropna())/len(df_2014))*100))\n",
    "print(\"In 2019, {} of the {} survey participants named at least least one programming language ({:.2f}%).\".format(len(df_2019.iloc[:,35].dropna()), len(df_2019), (len(df_2019.iloc[:,35].dropna())/len(df_2019))*100))"
   ]
  },
  {
   "cell_type": "code",
   "execution_count": 14,
   "metadata": {},
   "outputs": [
    {
     "data": {
      "text/plain": [
       "Occasionally        3132\n",
       "Never               2606\n",
       "Full-time Remote     762\n",
       "Part-time Remote     719\n",
       "Name: Response, dtype: int64"
      ]
     },
     "execution_count": 14,
     "metadata": {},
     "output_type": "execute_result"
    }
   ],
   "source": [
    "# Possible remote reply options in df_2014\n",
    "df_2014[\"Do you work remotely?\"][\"Response\"].value_counts()"
   ]
  },
  {
   "cell_type": "code",
   "execution_count": 15,
   "metadata": {},
   "outputs": [
    {
     "data": {
      "text/plain": [
       "Less than once per month / Never                           30220\n",
       "A few days each month                                      17242\n",
       "All or almost all the time (I'm full-time remote)           8465\n",
       "Less than half the time, but at least one day each week     6320\n",
       "It's complicated                                            3675\n",
       "More than half, but not all, the time                       2376\n",
       "About half the time                                         1986\n",
       "Name: WorkRemote, dtype: int64"
      ]
     },
     "execution_count": 15,
     "metadata": {},
     "output_type": "execute_result"
    }
   ],
   "source": [
    "# Possible remote reply options in df_2019\n",
    "df_2019.iloc[:,35].value_counts()"
   ]
  },
  {
   "cell_type": "code",
   "execution_count": 16,
   "metadata": {},
   "outputs": [],
   "source": [
    "def map_remote(col_val):\n",
    "    \n",
    "    \"\"\"\n",
    "    Maps the reply options from 2019 to 2014\n",
    "\n",
    "    Parameters\n",
    "    ----------\n",
    "    col_val : str\n",
    "        The remote column value of df_2019\n",
    "\n",
    "    Returns\n",
    "    -------\n",
    "    str\n",
    "        A mapped string\n",
    "    \"\"\"\n",
    "     \n",
    "    if col_val == \"Less than once per month / Never\":\n",
    "        return \"Never\"\n",
    "    \n",
    "    elif col_val in [\"A few days each month\", \"Less than half the time, but at least one day each week\", \"It's complicated\"]:\n",
    "        return \"Occasionally\"\n",
    "    \n",
    "    elif col_val in [\"More than half, but not all, the time\", \"About half the time\"]:\n",
    "        return \"Part-time Remote\"\n",
    "    \n",
    "    elif col_val == \"All or almost all the time (I'm full-time remote)\":\n",
    "        return \"Full-time Remote\"\n",
    "    \n",
    "    else:\n",
    "        return np.nan"
   ]
  },
  {
   "cell_type": "code",
   "execution_count": 17,
   "metadata": {},
   "outputs": [
    {
     "data": {
      "text/plain": [
       "True"
      ]
     },
     "execution_count": 17,
     "metadata": {},
     "output_type": "execute_result"
    }
   ],
   "source": [
    "# Apply map_remote()\n",
    "df_2019[\"Remote_Grouped\"] = df_2019.iloc[:,35].apply(map_remote)\n",
    "df_2014[\"Remote_Grouped\"] = df_2014[\"Do you work remotely?\"][\"Response\"]\n",
    "# Check if the sum of the NAs is still the same\n",
    "df_2019[\"Remote_Grouped\"].notna().sum() == df_2019.iloc[:,35].notna().sum()"
   ]
  },
  {
   "cell_type": "code",
   "execution_count": 18,
   "metadata": {},
   "outputs": [],
   "source": [
    "def split_age(col_val):    \n",
    "   \n",
    "    \"\"\"\n",
    "    Calculates the mean from the age range of df_2014\n",
    "\n",
    "    Parameters\n",
    "    ----------\n",
    "    col_val : str\n",
    "        Age range\n",
    "\n",
    "    Returns\n",
    "    -------\n",
    "    int\n",
    "        The mean of the age range\n",
    "    \"\"\"\n",
    "    \n",
    "    if pd.isna(col_val):\n",
    "        return np.nan\n",
    "    elif \"-\" in col_val:\n",
    "        return np.mean([int(col_val.split(\"-\")[0]), int(col_val.split(\"-\")[1])])\n",
    "    elif \"<\" in col_val:\n",
    "        return int(col_val.strip()[-2:])-1\n",
    "    else:\n",
    "        return int(col_val.strip()[-2:])+1"
   ]
  },
  {
   "cell_type": "code",
   "execution_count": 19,
   "metadata": {},
   "outputs": [
    {
     "data": {
      "text/plain": [
       "True"
      ]
     },
     "execution_count": 19,
     "metadata": {},
     "output_type": "execute_result"
    }
   ],
   "source": [
    "# Apply split_age() on df_2014\n",
    "df_2014[\"Mean_Age\"] = df_2014[\"How old are you?\"][\"Response\"].apply(split_age)\n",
    "# Check if numbers of NAs is still the same (which should be the case)\n",
    "any(df_2014[\"Mean_Age\"].isna() == df_2014[\"How old are you?\"][\"Response\"].isna())"
   ]
  },
  {
   "cell_type": "code",
   "execution_count": 20,
   "metadata": {},
   "outputs": [],
   "source": [
    "def group_age(col_val):\n",
    "        \n",
    "    \"\"\"\n",
    "    Maps an age value into an age range\n",
    "\n",
    "    Parameters\n",
    "    ----------\n",
    "    col_val : int\n",
    "        A persons' age\n",
    "\n",
    "    Returns\n",
    "    -------\n",
    "    str\n",
    "        An age range \n",
    "    \"\"\"\n",
    "    \n",
    "    if pd.isna(col_val):\n",
    "        return np.nan\n",
    "    elif col_val < 20:\n",
    "        return \"<20\"\n",
    "    elif col_val >= 20 and col_val < 30:\n",
    "        return \"20-29\"\n",
    "    elif col_val >= 30 and col_val < 40:\n",
    "        return \"30-39\"\n",
    "    elif col_val >= 40 and col_val < 49:\n",
    "        return \"40-49\"\n",
    "    elif col_val >= 50 and col_val < 59:\n",
    "        return \"50-59\"\n",
    "    else:\n",
    "        return \">=60\""
   ]
  },
  {
   "cell_type": "code",
   "execution_count": 21,
   "metadata": {},
   "outputs": [],
   "source": [
    "# Create new columns\n",
    "df_2014[\"Age_Grouped\"] = df_2014[\"Mean_Age\"].apply(group_age)\n",
    "df_2019[\"Age_Grouped\"] = df_2019[\"Age\"].apply(group_age)"
   ]
  },
  {
   "cell_type": "code",
   "execution_count": 22,
   "metadata": {},
   "outputs": [],
   "source": [
    "# Create subset for the graph\n",
    "quest2_df_2014 = df_2014.loc[:,[\"Age_Grouped\", \"Remote_Grouped\"]].dropna()\n",
    "quest2_df_2019 = df_2019.loc[:,[\"Age_Grouped\", \"Remote_Grouped\"]].dropna()"
   ]
  },
  {
   "cell_type": "code",
   "execution_count": 23,
   "metadata": {},
   "outputs": [
    {
     "data": {
      "text/plain": [
       "Age_Grouped  Remote_Grouped  \n",
       "20-29        Full-time Remote     334\n",
       "             Never               1535\n",
       "             Occasionally        1631\n",
       "             Part-time Remote     326\n",
       "30-39        Full-time Remote     231\n",
       "             Never                571\n",
       "             Occasionally         957\n",
       "             Part-time Remote     183\n",
       "40-49        Full-time Remote      81\n",
       "             Never                156\n",
       "             Occasionally         309\n",
       "             Part-time Remote      90\n",
       "50-59        Full-time Remote      23\n",
       "             Never                 35\n",
       "             Occasionally          75\n",
       "             Part-time Remote      31\n",
       "<20          Full-time Remote      87\n",
       "             Never                301\n",
       "             Occasionally         150\n",
       "             Part-time Remote      84\n",
       ">=60         Full-time Remote       6\n",
       "             Never                  8\n",
       "             Occasionally          10\n",
       "             Part-time Remote       5\n",
       "Name: Age_Grouped, dtype: int64"
      ]
     },
     "execution_count": 23,
     "metadata": {},
     "output_type": "execute_result"
    }
   ],
   "source": [
    "# Look at the age groups in df_2014 grouped by remote type\n",
    "quest2_df_2014.groupby([\"Age_Grouped\", \"Remote_Grouped\"])[\"Age_Grouped\"].count()"
   ]
  },
  {
   "cell_type": "code",
   "execution_count": 24,
   "metadata": {},
   "outputs": [
    {
     "data": {
      "text/plain": [
       "Remote_Grouped    Age_Grouped\n",
       "Full-time Remote  30-39           3213\n",
       "                  20-29           2534\n",
       "                  40-49           1203\n",
       "                  50-59            449\n",
       "                  >=60             236\n",
       "                  <20              137\n",
       "Never             20-29          15402\n",
       "                  30-39           8948\n",
       "                  40-49           2171\n",
       "                  50-59            624\n",
       "                  <20              355\n",
       "                  >=60             330\n",
       "Occasionally      20-29          11503\n",
       "                  30-39           9353\n",
       "                  40-49           2636\n",
       "                  50-59            828\n",
       "                  >=60             352\n",
       "                  <20              226\n",
       "Part-time Remote  20-29           1604\n",
       "                  30-39           1391\n",
       "                  40-49            506\n",
       "                  50-59            199\n",
       "                  >=60             111\n",
       "                  <20               55\n",
       "Name: Age_Grouped, dtype: int64"
      ]
     },
     "execution_count": 24,
     "metadata": {},
     "output_type": "execute_result"
    }
   ],
   "source": [
    "# Look at the age groups in df_2019 grouped by remote type \n",
    "quest2_df_2019.groupby(\"Remote_Grouped\")[\"Age_Grouped\"].value_counts()"
   ]
  },
  {
   "cell_type": "code",
   "execution_count": 25,
   "metadata": {},
   "outputs": [],
   "source": [
    "def create_barchart_arrays(df): \n",
    "    \n",
    "    \"\"\"\n",
    "    Creates numpy arrays for the  following plot\n",
    "\n",
    "    Parameters\n",
    "    ----------\n",
    "    df : DataFrame\n",
    "        A Pandas DataFrame\n",
    "\n",
    "    Returns\n",
    "    -------\n",
    "    numpy array\n",
    "        A two-dimensional numpy array \n",
    "    \"\"\"\n",
    "\n",
    "    stacked_bar_list = [[],[],[],[]]\n",
    "    for i, rem in enumerate([\"Never\", \"Occasionally\", \"Part-time Remote\", \"Full-time Remote\"]):\n",
    "        for age_group in [\"<20\", \"20-29\", \"30-39\", \"40-49\", \"50-59\", \">=60\"]:\n",
    "            stacked_bar_list[i].append(df.groupby([\"Age_Grouped\", \"Remote_Grouped\"])[\"Age_Grouped\"].count()[age_group][rem]/df.groupby([\"Age_Grouped\"])[\"Age_Grouped\"].count()[age_group])\n",
    "    return np.array(stacked_bar_list)"
   ]
  },
  {
   "cell_type": "code",
   "execution_count": 26,
   "metadata": {},
   "outputs": [],
   "source": [
    "# Apply create_barchart_lists()\n",
    "quest2_barchart_array_2014 = create_barchart_arrays(quest2_df_2014)\n",
    "quest2_barchart_array_2019 = create_barchart_arrays(quest2_df_2019)"
   ]
  },
  {
   "cell_type": "code",
   "execution_count": 27,
   "metadata": {},
   "outputs": [
    {
     "data": {
      "image/png": "[encoded data removed]",
      "text/plain": [
       "<Figure size 1008x432 with 1 Axes>"
      ]
     },
     "metadata": {
      "needs_background": "light"
     },
     "output_type": "display_data"
    }
   ],
   "source": [
    "fig, ax = plt.subplots(figsize=(14, 6))\n",
    "barWidth = 0.85\n",
    "width = 0.35\n",
    "x_age = [\"<20\", \"20-29\", \"30-39\", \"40-49\", \"50-59\", \">=60\"]\n",
    "alpha = 0.5\n",
    "\n",
    "ax.bar(np.arange(6) - width/2, quest2_barchart_array_2014[0], width, alpha = alpha, color = \"#f8766d\")\n",
    "ax.bar(np.arange(6) + width/2, quest2_barchart_array_2019[0], width, color = \"#f8766d\", label='Never')\n",
    "ax.bar(np.arange(6) - width/2, quest2_barchart_array_2014[1], bottom = quest2_barchart_array_2014[0], width = width, alpha = alpha, color = \"#7cae00\")\n",
    "ax.bar(np.arange(6) + width/2, quest2_barchart_array_2019[1], bottom = quest2_barchart_array_2019[0], width = width, color = \"#7cae00\", label=\"Occasionally\")\n",
    "ax.bar(np.arange(6) - width/2, quest2_barchart_array_2014[2], bottom = quest2_barchart_array_2014[0]+quest2_barchart_array_2014[1], width = width, alpha = alpha, color = \"#00bfc4\")\n",
    "ax.bar(np.arange(6) + width/2, quest2_barchart_array_2019[2], bottom = quest2_barchart_array_2019[0]+quest2_barchart_array_2019[1], width = width, color = \"#00bfc4\", label=\"Part-time Remote\")\n",
    "ax.bar(np.arange(6) - width/2, quest2_barchart_array_2014[3], bottom = quest2_barchart_array_2014[0]+quest2_barchart_array_2014[1]+quest2_barchart_array_2014[2], width = width, alpha = alpha, color = \"#c77cff\")\n",
    "ax.bar(np.arange(6) + width/2, quest2_barchart_array_2019[3], bottom = quest2_barchart_array_2019[0]+quest2_barchart_array_2019[1]+quest2_barchart_array_2019[2], width = width, color = \"#c77cff\", label=\"Full-time Remote\")\n",
    "\n",
    "plt.xticks(np.arange(6), [\"<20\", \"20-29\", \"30-39\", \"40-49\", \"50-59\", \">=60\"], fontsize=13)\n",
    "plt.suptitle('Percentage change in remote work between age groups in 2014 and 2019', size=22)\n",
    "plt.title(\"left: 2014     right: 2019\", size = 14)\n",
    "plt.xlabel(\"Age Groups\", fontsize=15)\n",
    "plt.yticks([0, 0.2, 0.4, 0.6, 0.8, 1], ['0%', '20%', '40%', '60%', '80%', '100%'], fontsize=13)\n",
    "ax.legend(fontsize = 13)\n",
    "#plt.savefig('remote.png', bbox_inches='tight')\n",
    "plt.show()"
   ]
  },
  {
   "cell_type": "markdown",
   "metadata": {},
   "source": [
    "# Question 3\n",
    "### Is Stackoverflow less used in European countries where the percentage of English language skills is lower? "
   ]
  },
  {
   "cell_type": "code",
   "execution_count": 28,
   "metadata": {},
   "outputs": [
    {
     "name": "stdout",
     "output_type": "stream",
     "text": [
      "In 2019, 88751 of the 88883 survey participants named their county of origin (99.85%).\n"
     ]
    }
   ],
   "source": [
    "print(\"In 2019, {} of the {} survey participants named their county of origin ({:.2f}%).\".format(len(df_2019[\"Country\"].dropna()), len(df_2019), len(df_2019[\"Country\"].dropna())/len(df_2019)*100))"
   ]
  },
  {
   "cell_type": "code",
   "execution_count": 29,
   "metadata": {},
   "outputs": [
    {
     "data": {
      "text/plain": [
       "United States         20949\n",
       "India                  9061\n",
       "Germany                5866\n",
       "United Kingdom         5737\n",
       "Canada                 3395\n",
       "France                 2391\n",
       "Brazil                 1948\n",
       "Poland                 1922\n",
       "Australia              1903\n",
       "Netherlands            1852\n",
       "Russian Federation     1694\n",
       "Spain                  1604\n",
       "Italy                  1576\n",
       "Sweden                 1274\n",
       "Switzerland             978\n",
       "Israel                  952\n",
       "Turkey                  949\n",
       "Pakistan                923\n",
       "Ukraine                 868\n",
       "Austria                 839\n",
       "Name: Country, dtype: int64"
      ]
     },
     "execution_count": 29,
     "metadata": {},
     "output_type": "execute_result"
    }
   ],
   "source": [
    "# Show top 20 countries of participants\n",
    "df_2019[\"Country\"].value_counts()[:20]"
   ]
  },
  {
   "cell_type": "code",
   "execution_count": 31,
   "metadata": {},
   "outputs": [],
   "source": [
    "# Top 10 European non-English speaking countries \n",
    "top10_countries = [\"Sweden\", \"Switzerland\", \"Netherlands\", \"Austria\", \"Germany\", \"Poland\", \"France\", \"Spain\", \"Italy\", \"Ukraine\"]\n",
    "# Number of inhabitants of these countries\n",
    "top10_countries_inhab = [10230000, 8570000, 17280000, 8850000, 83020000, 37970000, 66990000, 46940000, 60360000, 41980000]"
   ]
  },
  {
   "cell_type": "code",
   "execution_count": 35,
   "metadata": {},
   "outputs": [
    {
     "data": {
      "image/png": "[encoded data removed]",
      "text/plain": [
       "<Figure size 1008x432 with 1 Axes>"
      ]
     },
     "metadata": {
      "needs_background": "light"
     },
     "output_type": "display_data"
    }
   ],
   "source": [
    "#https://www.ef.com/epi/\n",
    "fig, ax = plt.subplots(figsize=(14, 6))\n",
    "ax.bar(top10_countries, [df_2019[\"Country\"].value_counts()[:20][c]/i*100 for (c,i) in zip(top10_countries, top10_countries_inhab)], alpha = 0.7, color = [\"#00bc35\", \"#609dff\", \"#00bc35\", \"#00bc35\", \"#00bc35\", \"#00bc35\", \"#f8766d\", \"#f8766d\", \"#f8766d\", \"#f8766d\"])\n",
    "ax.bar(top10_countries, np.zeros(10), alpha = 0.7, label = \"Very Good\", color = \"#00bc35\")\n",
    "ax.bar(top10_countries, np.zeros(10), alpha = 0.7, label = \"Good\", color = \"#609dff\")\n",
    "ax.bar(top10_countries, np.zeros(10), alpha = 0.7, label = \"Medium or worse\", color = \"#f8766d\")\n",
    "plt.yticks([0, 0.002, 0.004, 0.006, 0.008, 0.01, 0.012], ['0%', '0.002%', '0.004%', '0.006%', '0.008%', '0.01%', '0.012%'], fontsize=13)\n",
    "plt.xticks(fontsize=13, rotation = 45)\n",
    "plt.ylabel(\"Proportion of the total population\", size = 15)\n",
    "#plt.suptitle('Comparison of European non-English-speaking respondents in relation\\nto their population and their knowledge of English', size=22, y=1.08)\n",
    "plt.title('Comparison of European non-English-speaking respondents in relation\\nto their population and their knowledge of English', size=22)\n",
    "plt.legend(loc = 1, title = \"Knowledge of English\",title_fontsize=13,fontsize = 13)\n",
    "#plt.savefig('english_europe.png', bbox_inches='tight')\n",
    "plt.show()"
   ]
  }
 ],
 "metadata": {
  "kernelspec": {
   "display_name": "Python 3",
   "language": "python",
   "name": "python3"
  },
  "language_info": {
   "codemirror_mode": {
    "name": "ipython",
    "version": 3
   },
   "file_extension": ".py",
   "mimetype": "text/x-python",
   "name": "python",
   "nbconvert_exporter": "python",
   "pygments_lexer": "ipython3",
   "version": "3.6.9"
  }
 },
 "nbformat": 4,
 "nbformat_minor": 4
}
